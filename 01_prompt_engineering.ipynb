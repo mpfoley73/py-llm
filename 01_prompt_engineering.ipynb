{
 "cells": [
  {
   "cell_type": "markdown",
   "metadata": {},
   "source": [
    "# Prompt Engineering\n",
    "\n",
    "*This notebook is modeled after my [NLP Prompt Engineer R Journal](https://mpfoley73.github.io/nlp/prompt-engineering.html).*"
   ]
  },
  {
   "cell_type": "markdown",
   "metadata": {},
   "source": [
    "An API token is required for OpenAI’s ChatGPT API service. I created one at https://platform.openai.com/api-keys and saved it to .env."
   ]
  },
  {
   "cell_type": "code",
   "execution_count": 5,
   "metadata": {},
   "outputs": [],
   "source": [
    "import os\n",
    "import openai\n",
    "\n",
    "openai.api_key=os.environ.get(\"OPENAI_API_KEY\")"
   ]
  },
  {
   "cell_type": "markdown",
   "metadata": {},
   "source": [
    "It is possible to elicit responses from OpenAI models in a particular format. Large models like GPT-3.5 will adapt their responses to the format you specify. Let’s try a few examples. First, set up a function to make the call."
   ]
  },
  {
   "cell_type": "code",
   "execution_count": 11,
   "metadata": {},
   "outputs": [],
   "source": [
    "def get_openai_response(context, user_message):\n",
    "\n",
    "    message_list = context.copy()\n",
    "    message_list.append(\n",
    "        {'role':'user', 'content':\"question: \" + user_message}\n",
    "    )\n",
    "\n",
    "    response = openai.chat.completions.create(\n",
    "            model=\"gpt-3.5-turbo\",\n",
    "            messages=message_list,\n",
    "            temperature=1,\n",
    "        )\n",
    "\n",
    "    return (response.choices[0].message.content)"
   ]
  },
  {
   "cell_type": "markdown",
   "metadata": {},
   "source": [
    "A standard prompt with system message like “You are an expert in Major League Baseball.” followed by user message “Who won the 2016 World Series?” might return a free-form text response like this:"
   ]
  },
  {
   "cell_type": "code",
   "execution_count": 12,
   "metadata": {},
   "outputs": [
    {
     "name": "stdout",
     "output_type": "stream",
     "text": [
      "The Chicago Cubs won the 2016 World Series. It was their first championship in 108 years, and they defeated the Cleveland Indians in a thrilling seven-game series.\n"
     ]
    }
   ],
   "source": [
    "context = [\n",
    "    {'role':'system', 'content':'You are an expert in Major League Baseball.'},\n",
    "]\n",
    "print(get_openai_response(context, 'Who won the 2016 World Series?'))"
   ]
  },
  {
   "cell_type": "markdown",
   "metadata": {},
   "source": [
    "This is called _zero-shot_ because there is no demonstration of what the output should look like. A _one-shot_ prompt might look like this:"
   ]
  },
  {
   "cell_type": "code",
   "execution_count": 14,
   "metadata": {},
   "outputs": [
    {
     "name": "stdout",
     "output_type": "stream",
     "text": [
      "The 2016 World Series was won by the Chicago Cubs. They defeated the Cleveland Indians to claim their first championship in 108 years.\n"
     ]
    }
   ],
   "source": [
    "context = [\n",
    "    {'role':'system', 'content':\n",
    "     \"\"\"You are an expert in Major League Baseball.\n",
    "\n",
    "    Who won the 1995 World Series?\n",
    "    Winning Team: Atlanta Braves.\n",
    "    Losing Team: Cleveland Indians.\"\"\"}\n",
    "]\n",
    "print(get_openai_response(context, 'Who won the 2016 World Series?'))"
   ]
  },
  {
   "cell_type": "markdown",
   "metadata": {},
   "source": [
    "That didn’t work. How about a two-shot?"
   ]
  },
  {
   "cell_type": "code",
   "execution_count": 15,
   "metadata": {},
   "outputs": [
    {
     "name": "stdout",
     "output_type": "stream",
     "text": [
      "The Chicago Cubs won the 2016 World Series.\n"
     ]
    }
   ],
   "source": [
    "context = [\n",
    "    {'role':'system', 'content':\n",
    "     \"\"\"You are an expert in Major League Baseball.\n",
    "\n",
    "    Who won the 1995 World Series?\n",
    "    Winning Team: Atlanta Braves.\n",
    "    Losing Team: Cleveland Indians.\n",
    "    Who won the 1997 World Series?\n",
    "    Winning Team: Florida Marlins.\n",
    "    Losing Team: Cleveland Indians.\"\"\"}\n",
    "]\n",
    "print(get_openai_response(context, 'Who won the 2016 World Series?'))"
   ]
  },
  {
   "cell_type": "markdown",
   "metadata": {},
   "source": [
    "Thought that would do it… There is another way. The model learns best by conversation. Use the assistant role to help it along. This is the proper way to build a prompt."
   ]
  },
  {
   "cell_type": "code",
   "execution_count": 16,
   "metadata": {},
   "outputs": [
    {
     "name": "stdout",
     "output_type": "stream",
     "text": [
      "Winning Team: Chicago Cubs. \n",
      "Losing Team: Cleveland Indians.\n"
     ]
    }
   ],
   "source": [
    "context = [\n",
    "    {'role':'system', 'content':'You are an expert in Major League Baseball.\\n\\n'},\n",
    "    {'role':'user', 'content':'Who won the 1995 World Series?'},\n",
    "    {'role':'assistant', 'content':\"\"\"Winning Team: Atlanta Braves. \\nLosing Team: Cleveland Indians. \"\"\"},\n",
    "    {'role':'user', 'content':'Who won the 1997 World Series?'},\n",
    "    {'role':'assistant', 'content':\"\"\"Winning Team: Florida Marlins. \\nLosing Team: Cleveland Indians. \"\"\"},\n",
    "]\n",
    "print(get_openai_response(context, 'Who won the 2016 World Series?'))"
   ]
  },
  {
   "cell_type": "markdown",
   "metadata": {},
   "source": [
    "You would operationalize that by putting the system and user-assistant pairs in the function definition. Still one more option is to supply explicit instructions. Below, I combine explicit instructions with two-shot."
   ]
  },
  {
   "cell_type": "code",
   "execution_count": 17,
   "metadata": {},
   "outputs": [
    {
     "name": "stdout",
     "output_type": "stream",
     "text": [
      "Winning Team: Chicago Cubs. \n",
      "Losing Team: Cleveland Indians.\n"
     ]
    }
   ],
   "source": [
    "context = [\n",
    "    {'role':'system', 'content':\"\"\"You are an expert in Major League Baseball.\n",
    "     Answer the question with the winning team and losing team. Use the \n",
    "     following format:\n",
    "     Winning Team: \n",
    "     Losing Team: \"\"\"},\n",
    "    {'role':'user', 'content':'Who won the 1995 World Series?'},\n",
    "    {'role':'assistant', 'content':\"\"\"Winning Team: Atlanta Braves. \\nLosing Team: Cleveland Indians. \"\"\"},\n",
    "    {'role':'user', 'content':'Who won the 1997 World Series?'},\n",
    "    {'role':'assistant', 'content':\"\"\"Winning Team: Florida Marlins. \\nLosing Team: Cleveland Indians. \"\"\"},\n",
    "]\n",
    "print(get_openai_response(context, 'Who won the 2016 World Series?'))"
   ]
  }
 ],
 "metadata": {
  "kernelspec": {
   "display_name": "Python 3",
   "language": "python",
   "name": "python3"
  },
  "language_info": {
   "codemirror_mode": {
    "name": "ipython",
    "version": 3
   },
   "file_extension": ".py",
   "mimetype": "text/x-python",
   "name": "python",
   "nbconvert_exporter": "python",
   "pygments_lexer": "ipython3",
   "version": "3.11.7"
  }
 },
 "nbformat": 4,
 "nbformat_minor": 2
}
